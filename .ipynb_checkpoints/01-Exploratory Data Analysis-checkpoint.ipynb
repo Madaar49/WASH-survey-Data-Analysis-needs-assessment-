{
 "cells": [
  {
   "cell_type": "markdown",
   "id": "03fea6be-c7ca-4093-a8bb-000c9dba1556",
   "metadata": {},
   "source": [
    "<img src=\"https://media.licdn.com/dms/image/D4E0BAQHFcqgKEtiEBQ/company-logo_200_200/0/1690039253507?e=1698278400&v=beta&t=NCL_TCEOtyJqJZ5CtDpfhSnRlCx-bI4qQ9DXV-RAIBY\" width=\"150\">\n",
    "\n",
    "_____\n"
   ]
  },
  {
   "cell_type": "markdown",
   "id": "df5b3a2e-81ef-4e9b-bb3b-2a1c25def2b8",
   "metadata": {},
   "source": [
    "## Project Description\n",
    "### **WASH survey Data Analysis :** Using Data Science for water needs assessment in deprived communities\n",
    "___"
   ]
  },
  {
   "cell_type": "markdown",
   "id": "fbcc1d9d-882d-4851-8695-50e1e630fb73",
   "metadata": {
    "tags": []
   },
   "source": [
    "### Augustine M Gbondo, Hydrogeologist | Environmental Engineer | Data Scientist \n",
    "\n",
    "##### [Twitter](https://twitter.com/geogbondo) | [GitHub](https://github.com/Madaar49) | [LinkedIn](https://www.linkedin.com/in/augustine-maada-gbondo-443479117/) | [Xing](https://www.xing.com/profile/AugustineMaada_Gbondo/cv)"
   ]
  },
  {
   "cell_type": "code",
   "execution_count": null,
   "id": "450f912b-0852-46f1-9e84-78f3f17bddbc",
   "metadata": {},
   "outputs": [],
   "source": []
  },
  {
   "cell_type": "markdown",
   "id": "9fc1e7c7-414c-4cf9-af3d-7db677ee8abf",
   "metadata": {},
   "source": [
    "## 1. Exploratory Data Analysis\n",
    "\n",
    "### The WASH survey 2016\n",
    "\n",
    "**Water point data :**\n",
    "The Sierra Leone WASH portal is a comprehensive mapping exercise carried out by the Ministry of Water Resources (MOWR) and its partners in 2016. Over 28,000 public improved waterpoints across all of Sierra Leone’s districts and chiefdoms have been mapped during this period. The exercise constitutes a comprehensive update of the earlier mapping in 2012. \n",
    "\n",
    "**Objective :** The objective of this project is to analyse"
   ]
  },
  {
   "cell_type": "code",
   "execution_count": null,
   "id": "9fc3a558-dcaf-4024-8b37-fca1fc088cb2",
   "metadata": {},
   "outputs": [],
   "source": []
  },
  {
   "cell_type": "markdown",
   "id": "1e2dfb49-329b-4c32-8881-0145d7a9a975",
   "metadata": {
    "tags": []
   },
   "source": [
    "#### Contents\n",
    "1. Importing dataset and exploring columns\n",
    "2. Missing Values\n",
    "3. All The Numerical Variables\n",
    "4. Categorical Variables\n",
    "5. check irregular column data\n",
    "6. Listing all tasks"
   ]
  },
  {
   "cell_type": "code",
   "execution_count": 2,
   "id": "f68ba778",
   "metadata": {},
   "outputs": [
    {
     "name": "stderr",
     "output_type": "stream",
     "text": [
      "C:\\ProgramData\\Anaconda3\\lib\\site-packages\\geopandas\\_compat.py:123: UserWarning: The Shapely GEOS version (3.10.3-CAPI-1.16.1) is incompatible with the GEOS version PyGEOS was compiled with (3.10.4-CAPI-1.16.2). Conversions between both will be slow.\n",
      "  warnings.warn(\n"
     ]
    }
   ],
   "source": [
    "import numpy as np\n",
    "import pandas as pd\n",
    "import os\n",
    "import glob\n",
    "import geopandas as gpd"
   ]
  },
  {
   "cell_type": "code",
   "execution_count": null,
   "id": "c4ea982c-7754-43e8-8497-81b9abb2ad5c",
   "metadata": {},
   "outputs": [],
   "source": []
  },
  {
   "cell_type": "markdown",
   "id": "1e3cb7db-d82c-46d5-aa50-d9b9f09d064b",
   "metadata": {
    "tags": []
   },
   "source": [
    "### 1. Importing dataset and exploring columns"
   ]
  },
  {
   "cell_type": "markdown",
   "id": "85e3d487-e9b0-4d65-97a4-c4fd580578ee",
   "metadata": {},
   "source": []
  },
  {
   "cell_type": "markdown",
   "id": "620ff0e9-2525-4539-a703-2b54c5769a4b",
   "metadata": {},
   "source": [
    "## Download the dataset\n",
    "\n",
    "The dataset was downloaded at <a href=\"https://washdata-sl.org/water-point-data/water-point-functionality/\">washdata-sl.org</a>\n"
   ]
  },
  {
   "cell_type": "code",
   "execution_count": 3,
   "id": "cb0d3291",
   "metadata": {},
   "outputs": [
    {
     "data": {
      "text/plain": [
       "['WP_ALL DATA\\\\Water-point-data-SL.csv',\n",
       " 'WP_ALL DATA\\\\WP Master.csv',\n",
       " 'WP_ALL DATA\\\\WP_Eastern.csv',\n",
       " 'WP_ALL DATA\\\\WP_Northern.csv',\n",
       " 'WP_ALL DATA\\\\WP_Southern.csv',\n",
       " 'WP_ALL DATA\\\\WP_Western.csv']"
      ]
     },
     "execution_count": 3,
     "metadata": {},
     "output_type": "execute_result"
    }
   ],
   "source": [
    "#visualising all downloaded dataset in folder CSV data\n",
    "datafiles = glob.glob('WP_ALL DATA\\\\*.csv')\n",
    "datafiles"
   ]
  },
  {
   "cell_type": "raw",
   "id": "46e26ea3-552f-4bc6-9881-9c5a2ccca78c",
   "metadata": {},
   "source": []
  },
  {
   "cell_type": "markdown",
   "id": "4daf35c7-214d-4675-b094-99d35e8816b7",
   "metadata": {},
   "source": [
    "There are 6 Dataset in the folder, however the `WP Master.csv` file will be used for this project as in contains the total survey data for the whole country"
   ]
  },
  {
   "cell_type": "markdown",
   "id": "710b94b1-47c0-45d7-808b-e672c1974e2c",
   "metadata": {
    "tags": []
   },
   "source": []
  },
  {
   "cell_type": "code",
   "execution_count": 4,
   "id": "7dddcc77-ba07-4b56-a3ae-56d70dc5704d",
   "metadata": {},
   "outputs": [
    {
     "data": {
      "text/html": [
       "<div>\n",
       "<style scoped>\n",
       "    .dataframe tbody tr th:only-of-type {\n",
       "        vertical-align: middle;\n",
       "    }\n",
       "\n",
       "    .dataframe tbody tr th {\n",
       "        vertical-align: top;\n",
       "    }\n",
       "\n",
       "    .dataframe thead th {\n",
       "        text-align: right;\n",
       "    }\n",
       "</style>\n",
       "<table border=\"1\" class=\"dataframe\">\n",
       "  <thead>\n",
       "    <tr style=\"text-align: right;\">\n",
       "      <th></th>\n",
       "      <th>Submission Date</th>\n",
       "      <th>16230052|EA number</th>\n",
       "      <th>7420032|Community Name</th>\n",
       "      <th>7430032|Water point Name</th>\n",
       "      <th>5420051|Location</th>\n",
       "      <th>2420047|Latitude</th>\n",
       "      <th>--GEOLON--|Longitude</th>\n",
       "      <th>--GEOELE--|Elevation</th>\n",
       "      <th>--GEOCODE--|Geo Code</th>\n",
       "      <th>4430050|Photo</th>\n",
       "      <th>...</th>\n",
       "      <th>8480002|Are there trained natural ODF leaders in this community?</th>\n",
       "      <th>1530002|Are the trained natural ODF leaders performing their role effectively?</th>\n",
       "      <th>4690001|Observations about toilet</th>\n",
       "      <th>6740003|Observe presence of water at the specific place for hand washing</th>\n",
       "      <th>3830002|Observe what device is present for hand washing</th>\n",
       "      <th>3810002|Record if soap or detergent is present at the specific place for hand washing</th>\n",
       "      <th>Field49</th>\n",
       "      <th>chiefdom</th>\n",
       "      <th>District</th>\n",
       "      <th>Region</th>\n",
       "    </tr>\n",
       "  </thead>\n",
       "  <tbody>\n",
       "    <tr>\n",
       "      <th>0</th>\n",
       "      <td>30-07-2016 19:55:22 CEST</td>\n",
       "      <td>14</td>\n",
       "      <td>semabu</td>\n",
       "      <td>Community pump</td>\n",
       "      <td>South|Bonthe|Bonthe Urban|Bonthe Town</td>\n",
       "      <td>7.523658</td>\n",
       "      <td>-12.500999</td>\n",
       "      <td>50</td>\n",
       "      <td>9lmqrpu9</td>\n",
       "      <td>https://akvoflow-110.s3.amazonaws.com/images/d...</td>\n",
       "      <td>...</td>\n",
       "      <td>&lt;Null&gt;</td>\n",
       "      <td>&lt;Null&gt;</td>\n",
       "      <td>7:No toilet in household / not applicable</td>\n",
       "      <td>2:Water is not available</td>\n",
       "      <td>1:No device present</td>\n",
       "      <td>5:None</td>\n",
       "      <td>72849e96c5fe978793072373c77cae1</td>\n",
       "      <td>Dema</td>\n",
       "      <td>Bonthe</td>\n",
       "      <td>Southern</td>\n",
       "    </tr>\n",
       "    <tr>\n",
       "      <th>1</th>\n",
       "      <td>01-01-2016 21:16:53 CET</td>\n",
       "      <td>7</td>\n",
       "      <td>mabonto</td>\n",
       "      <td>magburaka road</td>\n",
       "      <td>Tonkolili|Kafe Simiria|Mabonto</td>\n",
       "      <td>8.860831</td>\n",
       "      <td>-11.812625</td>\n",
       "      <td>150.1</td>\n",
       "      <td>bb270dny</td>\n",
       "      <td>https://akvoflow-110.s3.amazonaws.com/images/e...</td>\n",
       "      <td>...</td>\n",
       "      <td>&lt;Null&gt;</td>\n",
       "      <td>&lt;Null&gt;</td>\n",
       "      <td>6:Toilet looks good</td>\n",
       "      <td>2:Water is not available</td>\n",
       "      <td>1:No device present</td>\n",
       "      <td>5:None</td>\n",
       "      <td>f0563f79f4dcc28f9d5877242bffc0f7</td>\n",
       "      <td>Kafe Simira</td>\n",
       "      <td>Tonkolili</td>\n",
       "      <td>Northern</td>\n",
       "    </tr>\n",
       "  </tbody>\n",
       "</table>\n",
       "<p>2 rows × 52 columns</p>\n",
       "</div>"
      ],
      "text/plain": [
       "            Submission Date 16230052|EA number 7420032|Community Name  \\\n",
       "0  30-07-2016 19:55:22 CEST                 14                 semabu   \n",
       "1   01-01-2016 21:16:53 CET                  7                mabonto   \n",
       "\n",
       "  7430032|Water point Name                       5420051|Location  \\\n",
       "0           Community pump  South|Bonthe|Bonthe Urban|Bonthe Town   \n",
       "1           magburaka road         Tonkolili|Kafe Simiria|Mabonto   \n",
       "\n",
       "   2420047|Latitude  --GEOLON--|Longitude --GEOELE--|Elevation  \\\n",
       "0          7.523658            -12.500999                   50   \n",
       "1          8.860831            -11.812625                150.1   \n",
       "\n",
       "  --GEOCODE--|Geo Code                                      4430050|Photo  \\\n",
       "0             9lmqrpu9  https://akvoflow-110.s3.amazonaws.com/images/d...   \n",
       "1             bb270dny  https://akvoflow-110.s3.amazonaws.com/images/e...   \n",
       "\n",
       "   ... 8480002|Are there trained natural ODF leaders in this community?  \\\n",
       "0  ...                                             <Null>                 \n",
       "1  ...                                             <Null>                 \n",
       "\n",
       "  1530002|Are the trained natural ODF leaders performing their role effectively?  \\\n",
       "0                                             <Null>                               \n",
       "1                                             <Null>                               \n",
       "\n",
       "           4690001|Observations about toilet  \\\n",
       "0  7:No toilet in household / not applicable   \n",
       "1                        6:Toilet looks good   \n",
       "\n",
       "  6740003|Observe presence of water at the specific place for hand washing  \\\n",
       "0                           2:Water is not available                         \n",
       "1                           2:Water is not available                         \n",
       "\n",
       "  3830002|Observe what device is present for hand washing  \\\n",
       "0                                1:No device present        \n",
       "1                                1:No device present        \n",
       "\n",
       "  3810002|Record if soap or detergent is present at the specific place for hand washing  \\\n",
       "0                                             5:None                                      \n",
       "1                                             5:None                                      \n",
       "\n",
       "                            Field49     chiefdom   District    Region  \n",
       "0   72849e96c5fe978793072373c77cae1         Dema     Bonthe  Southern  \n",
       "1  f0563f79f4dcc28f9d5877242bffc0f7  Kafe Simira  Tonkolili  Northern  \n",
       "\n",
       "[2 rows x 52 columns]"
      ]
     },
     "execution_count": 4,
     "metadata": {},
     "output_type": "execute_result"
    }
   ],
   "source": [
    "## importing master data\n",
    "df = pd.read_csv('WP_ALL DATA/WP Master.csv')\n",
    "df.head(2)"
   ]
  },
  {
   "cell_type": "code",
   "execution_count": 5,
   "id": "a20effa3-0246-4ba8-9cdd-000a3d2b8d1c",
   "metadata": {
    "tags": []
   },
   "outputs": [
    {
     "name": "stdout",
     "output_type": "stream",
     "text": [
      "The dataset shape is:  (26207, 52)\n"
     ]
    },
    {
     "data": {
      "text/plain": [
       "Index(['Submission Date', '16230052|EA number', '7420032|Community Name',\n",
       "       '7430032|Water point Name', '5420051|Location', '2420047|Latitude',\n",
       "       '--GEOLON--|Longitude', '--GEOELE--|Elevation', '--GEOCODE--|Geo Code',\n",
       "       '4430050|Photo', '5450040|Type of water point',\n",
       "       '4420041|Extraction system type', '440041|Pump type',\n",
       "       '1410054|Number of taps at this point',\n",
       "       '5440041|Are you able to measure the depth of well?',\n",
       "       '9410050|Measure the depth of the well (in metres)',\n",
       "       '7430035|Water point Functionality',\n",
       "       '470044|When did the water point break down?',\n",
       "       '4380053|Last time the water point broke down, how long did it take to repair?',\n",
       "       '6430039|Is/was this point monthly or regularly chlorinated?',\n",
       "       '5420052|Does this Water point have any damage?',\n",
       "       '4390041|Is water available throughout the year?',\n",
       "       '2480001|During the seasonal drought of the well, how long is it not available? (months)',\n",
       "       '4390042|Is/was this point used for drinking water',\n",
       "       '1450005|Why is this point not used for drinking water?',\n",
       "       '7420038|Is the water paid for at this point?',\n",
       "       '9410052|How reliable is the water point?',\n",
       "       '3480045|Is the water clean or is there a quality problem?',\n",
       "       '4430055|Year of construction',\n",
       "       '6400047|Installer / implementing agency',\n",
       "       '6430041|Others Installer / implementing agency',\n",
       "       '4390044|Who owns the water point?',\n",
       "       '4380054|Who is maintaining the water point (routine repairs)?',\n",
       "       '7380052|Is there a WASH management committee?',\n",
       "       '510001|Is the WASH management committee functioning?',\n",
       "       '7430040|Is there a trained mechanic available at this point?',\n",
       "       '6430044|Were trained mechanics provided with toolkits?',\n",
       "       '460037|How many minutes does it take to reach the nearest spare part supplier?',\n",
       "       '1500002|Has the community been declared ODF?',\n",
       "       '2470038|Do you think the community is still ODF?',\n",
       "       '6540001|Are there functioning latrines in this village?',\n",
       "       '2540001|Do the latrines have handwashing facilities?',\n",
       "       '8480002|Are there trained natural ODF leaders in this community?',\n",
       "       '1530002|Are the trained natural ODF leaders performing their role effectively?',\n",
       "       '4690001|Observations about toilet',\n",
       "       '6740003|Observe presence of water at the specific place for hand washing',\n",
       "       '3830002|Observe what device is present for hand washing',\n",
       "       '3810002|Record if soap or detergent is present at the specific place for hand washing',\n",
       "       'Field49', 'chiefdom', 'District', 'Region'],\n",
       "      dtype='object')"
      ]
     },
     "execution_count": 5,
     "metadata": {},
     "output_type": "execute_result"
    }
   ],
   "source": [
    "## print shape of dataset with rows and columns\n",
    "print('The dataset shape is: ', (df.shape))\n",
    "\n",
    "# check the columns in the dataset\n",
    "df.columns"
   ]
  },
  {
   "cell_type": "code",
   "execution_count": null,
   "id": "3aa1a11a-c202-48e1-85bc-d657099471b9",
   "metadata": {},
   "outputs": [],
   "source": []
  },
  {
   "cell_type": "markdown",
   "id": "385e4290-aa8d-42f5-9f87-9d8f11aa459b",
   "metadata": {},
   "source": [
    "#### Selecting informative columns [pending task 1]\n",
    "The dataset contains 52 features but not all of these features are important to our analysis. There is a need to drop less important features\n",
    "\n",
    "#### Cleaning Column Names [pending task 2]\n",
    "The current column names are not very helpful in some cases, with weird codes embeded in them. We can probably make these more understandable by renaming the columns.\n",
    "________________"
   ]
  },
  {
   "cell_type": "code",
   "execution_count": null,
   "id": "6b99dd51-ee8e-4ab5-8f63-eaf1d2151290",
   "metadata": {},
   "outputs": [],
   "source": []
  },
  {
   "cell_type": "markdown",
   "id": "1db9a665-4241-4c6a-a6dc-2431fe0c37f0",
   "metadata": {},
   "source": [
    "### 2.  Missing Values"
   ]
  },
  {
   "cell_type": "code",
   "execution_count": 6,
   "id": "fd3a43cc-ced9-478e-b937-7b6480939611",
   "metadata": {},
   "outputs": [
    {
     "name": "stdout",
     "output_type": "stream",
     "text": [
      "6430041|Others Installer / implementing agency 0.0001  % missing values\n",
      "7430040|Is there a trained mechanic available at this point? 0.0006  % missing values\n"
     ]
    },
    {
     "data": {
      "text/plain": [
       "['6430041|Others Installer / implementing agency',\n",
       " '7430040|Is there a trained mechanic available at this point?']"
      ]
     },
     "execution_count": 6,
     "metadata": {},
     "output_type": "execute_result"
    }
   ],
   "source": [
    "## Checking the percentage of missing values\n",
    "## 1 -step make the list of features which has missing values\n",
    "## 2- step print the feature name and the percentage of missing values\n",
    "\n",
    "def fnull():\n",
    "    features_with_na=[features for features in df.columns \n",
    "                      if df[features].isnull().sum()>1]\n",
    "    for feature in features_with_na:\n",
    "        print(feature, np.round(df[feature].isnull().mean(),\n",
    "                                4),  ' % missing values')\n",
    "    return features_with_na\n",
    "fnull()"
   ]
  },
  {
   "cell_type": "code",
   "execution_count": 7,
   "id": "cb4ec069-7f43-4645-8b41-8d4aa3daec3b",
   "metadata": {
    "tags": []
   },
   "outputs": [
    {
     "data": {
      "text/plain": [
       "Submission Date                                                                             0\n",
       "16230052|EA number                                                                          0\n",
       "7420032|Community Name                                                                      0\n",
       "7430032|Water point Name                                                                    0\n",
       "5420051|Location                                                                            0\n",
       "2420047|Latitude                                                                            0\n",
       "--GEOLON--|Longitude                                                                        0\n",
       "--GEOELE--|Elevation                                                                        0\n",
       "--GEOCODE--|Geo Code                                                                        0\n",
       "4430050|Photo                                                                               0\n",
       "5450040|Type of water point                                                                 0\n",
       "4420041|Extraction system type                                                              0\n",
       "440041|Pump type                                                                            0\n",
       "1410054|Number of taps at this point                                                        0\n",
       "5440041|Are you able to measure the depth of well?                                          0\n",
       "9410050|Measure the depth of the well (in metres)                                           0\n",
       "7430035|Water point Functionality                                                           0\n",
       "470044|When did the water point break down?                                                 0\n",
       "4380053|Last time the water point broke down, how long did it take to repair?               0\n",
       "6430039|Is/was this point monthly or regularly chlorinated?                                 0\n",
       "5420052|Does this Water point have any damage?                                              0\n",
       "4390041|Is water available throughout the year?                                             0\n",
       "2480001|During the seasonal drought of the well, how long is it not available? (months)     0\n",
       "4390042|Is/was this point used for drinking water                                           0\n",
       "1450005|Why is this point not used for drinking water?                                      0\n",
       "7420038|Is the water paid for at this point?                                                0\n",
       "9410052|How reliable is the water point?                                                    0\n",
       "3480045|Is the water clean or is there a quality problem?                                   0\n",
       "4430055|Year of construction                                                                0\n",
       "6400047|Installer / implementing agency                                                     0\n",
       "6430041|Others Installer / implementing agency                                              3\n",
       "4390044|Who owns the water point?                                                           0\n",
       "4380054|Who is maintaining the water point (routine repairs)?                               0\n",
       "7380052|Is there a WASH management committee?                                               0\n",
       "510001|Is the WASH management committee functioning?                                        0\n",
       "7430040|Is there a trained mechanic available at this point?                               17\n",
       "6430044|Were trained mechanics provided with toolkits?                                      0\n",
       "460037|How many minutes does it take to reach the nearest spare part supplier?              0\n",
       "1500002|Has the community been declared ODF?                                                0\n",
       "2470038|Do you think the community is still ODF?                                            0\n",
       "6540001|Are there functioning latrines in this village?                                     0\n",
       "2540001|Do the latrines have handwashing facilities?                                        0\n",
       "8480002|Are there trained natural ODF leaders in this community?                            0\n",
       "1530002|Are the trained natural ODF leaders performing their role effectively?              0\n",
       "4690001|Observations about toilet                                                           0\n",
       "6740003|Observe presence of water at the specific place for hand washing                    0\n",
       "3830002|Observe what device is present for hand washing                                     0\n",
       "3810002|Record if soap or detergent is present at the specific place for hand washing       0\n",
       "Field49                                                                                     0\n",
       "chiefdom                                                                                    0\n",
       "District                                                                                    0\n",
       "Region                                                                                      0\n",
       "dtype: int64"
      ]
     },
     "execution_count": 7,
     "metadata": {},
     "output_type": "execute_result"
    }
   ],
   "source": [
    "# exploring the null values in the data by features\n",
    "df.isnull().sum()"
   ]
  },
  {
   "cell_type": "code",
   "execution_count": null,
   "id": "214fdc7e-564f-421b-be8c-230f00dfb6fc",
   "metadata": {},
   "outputs": [],
   "source": []
  },
  {
   "cell_type": "markdown",
   "id": "d42e2314-2abc-4722-96e0-ed1ae342979e",
   "metadata": {},
   "source": [
    "### Exploring Categorical and Numerical Variables"
   ]
  },
  {
   "cell_type": "markdown",
   "id": "96a6fc41-c0b9-46f3-8f44-77ac104eebd8",
   "metadata": {},
   "source": [
    "#### 3. All Numerical Variables"
   ]
  },
  {
   "cell_type": "code",
   "execution_count": 8,
   "id": "fd2a4438-ddd3-4a64-8416-456ed90bbc92",
   "metadata": {},
   "outputs": [
    {
     "name": "stdout",
     "output_type": "stream",
     "text": [
      "Number of numerical variables:  4\n"
     ]
    },
    {
     "data": {
      "text/html": [
       "<div>\n",
       "<style scoped>\n",
       "    .dataframe tbody tr th:only-of-type {\n",
       "        vertical-align: middle;\n",
       "    }\n",
       "\n",
       "    .dataframe tbody tr th {\n",
       "        vertical-align: top;\n",
       "    }\n",
       "\n",
       "    .dataframe thead th {\n",
       "        text-align: right;\n",
       "    }\n",
       "</style>\n",
       "<table border=\"1\" class=\"dataframe\">\n",
       "  <thead>\n",
       "    <tr style=\"text-align: right;\">\n",
       "      <th></th>\n",
       "      <th>2420047|Latitude</th>\n",
       "      <th>--GEOLON--|Longitude</th>\n",
       "      <th>4430055|Year of construction</th>\n",
       "      <th>460037|How many minutes does it take to reach the nearest spare part supplier?</th>\n",
       "    </tr>\n",
       "  </thead>\n",
       "  <tbody>\n",
       "    <tr>\n",
       "      <th>0</th>\n",
       "      <td>7.523658</td>\n",
       "      <td>-12.500999</td>\n",
       "      <td>2012</td>\n",
       "      <td>85</td>\n",
       "    </tr>\n",
       "    <tr>\n",
       "      <th>1</th>\n",
       "      <td>8.860831</td>\n",
       "      <td>-11.812625</td>\n",
       "      <td>1987</td>\n",
       "      <td>180</td>\n",
       "    </tr>\n",
       "    <tr>\n",
       "      <th>2</th>\n",
       "      <td>7.253449</td>\n",
       "      <td>-11.895057</td>\n",
       "      <td>2007</td>\n",
       "      <td>1440</td>\n",
       "    </tr>\n",
       "    <tr>\n",
       "      <th>3</th>\n",
       "      <td>8.486413</td>\n",
       "      <td>-13.242527</td>\n",
       "      <td>2016</td>\n",
       "      <td>25</td>\n",
       "    </tr>\n",
       "    <tr>\n",
       "      <th>4</th>\n",
       "      <td>7.958622</td>\n",
       "      <td>-11.754123</td>\n",
       "      <td>2007</td>\n",
       "      <td>30</td>\n",
       "    </tr>\n",
       "  </tbody>\n",
       "</table>\n",
       "</div>"
      ],
      "text/plain": [
       "   2420047|Latitude  --GEOLON--|Longitude  4430055|Year of construction  \\\n",
       "0          7.523658            -12.500999                          2012   \n",
       "1          8.860831            -11.812625                          1987   \n",
       "2          7.253449            -11.895057                          2007   \n",
       "3          8.486413            -13.242527                          2016   \n",
       "4          7.958622            -11.754123                          2007   \n",
       "\n",
       "   460037|How many minutes does it take to reach the nearest spare part supplier?  \n",
       "0                                                 85                               \n",
       "1                                                180                               \n",
       "2                                               1440                               \n",
       "3                                                 25                               \n",
       "4                                                 30                               "
      ]
     },
     "execution_count": 8,
     "metadata": {},
     "output_type": "execute_result"
    }
   ],
   "source": [
    "# list of numerical variables\n",
    "numerical_features = [feature for feature in df.columns\n",
    "                      if df[feature].dtypes != 'O']\n",
    "print('Number of numerical variables: ', len(numerical_features))\n",
    "# visualise the numerical variables\n",
    "df[numerical_features].head()"
   ]
  },
  {
   "cell_type": "code",
   "execution_count": 11,
   "id": "def550e8-8300-401f-b09a-df330d49a7f9",
   "metadata": {},
   "outputs": [
    {
     "name": "stdout",
     "output_type": "stream",
     "text": [
      "The discrete Variables Count is: 4\n"
     ]
    },
    {
     "data": {
      "text/html": [
       "<div>\n",
       "<style scoped>\n",
       "    .dataframe tbody tr th:only-of-type {\n",
       "        vertical-align: middle;\n",
       "    }\n",
       "\n",
       "    .dataframe tbody tr th {\n",
       "        vertical-align: top;\n",
       "    }\n",
       "\n",
       "    .dataframe thead th {\n",
       "        text-align: right;\n",
       "    }\n",
       "</style>\n",
       "<table border=\"1\" class=\"dataframe\">\n",
       "  <thead>\n",
       "    <tr style=\"text-align: right;\">\n",
       "      <th></th>\n",
       "      <th>2420047|Latitude</th>\n",
       "      <th>--GEOLON--|Longitude</th>\n",
       "      <th>4430055|Year of construction</th>\n",
       "      <th>460037|How many minutes does it take to reach the nearest spare part supplier?</th>\n",
       "    </tr>\n",
       "  </thead>\n",
       "  <tbody>\n",
       "    <tr>\n",
       "      <th>0</th>\n",
       "      <td>7.523658</td>\n",
       "      <td>-12.500999</td>\n",
       "      <td>2012</td>\n",
       "      <td>85</td>\n",
       "    </tr>\n",
       "    <tr>\n",
       "      <th>1</th>\n",
       "      <td>8.860831</td>\n",
       "      <td>-11.812625</td>\n",
       "      <td>1987</td>\n",
       "      <td>180</td>\n",
       "    </tr>\n",
       "    <tr>\n",
       "      <th>2</th>\n",
       "      <td>7.253449</td>\n",
       "      <td>-11.895057</td>\n",
       "      <td>2007</td>\n",
       "      <td>1440</td>\n",
       "    </tr>\n",
       "    <tr>\n",
       "      <th>3</th>\n",
       "      <td>8.486413</td>\n",
       "      <td>-13.242527</td>\n",
       "      <td>2016</td>\n",
       "      <td>25</td>\n",
       "    </tr>\n",
       "    <tr>\n",
       "      <th>4</th>\n",
       "      <td>7.958622</td>\n",
       "      <td>-11.754123</td>\n",
       "      <td>2007</td>\n",
       "      <td>30</td>\n",
       "    </tr>\n",
       "  </tbody>\n",
       "</table>\n",
       "</div>"
      ],
      "text/plain": [
       "   2420047|Latitude  --GEOLON--|Longitude  4430055|Year of construction  \\\n",
       "0          7.523658            -12.500999                          2012   \n",
       "1          8.860831            -11.812625                          1987   \n",
       "2          7.253449            -11.895057                          2007   \n",
       "3          8.486413            -13.242527                          2016   \n",
       "4          7.958622            -11.754123                          2007   \n",
       "\n",
       "   460037|How many minutes does it take to reach the nearest spare part supplier?  \n",
       "0                                                 85                               \n",
       "1                                                180                               \n",
       "2                                               1440                               \n",
       "3                                                 25                               \n",
       "4                                                 30                               "
      ]
     },
     "execution_count": 11,
     "metadata": {},
     "output_type": "execute_result"
    }
   ],
   "source": [
    "## searching for all the discrete variables\n",
    "\n",
    "discrete_feature = [feature for feature in numerical_features\n",
    "                    if len(df[feature].unique())>1]\n",
    "print(\"The discrete Variables Count is: {}\".format(len(discrete_feature)))\n",
    "\n",
    "# visualise the numerical variables\n",
    "df[numerical_features].head()"
   ]
  },
  {
   "cell_type": "markdown",
   "id": "0526587c-cb71-4102-9536-e40b7a1055cc",
   "metadata": {},
   "source": [
    "In the data above, all the numerical variables are also discrete variables"
   ]
  },
  {
   "cell_type": "code",
   "execution_count": null,
   "id": "7105202d-b18d-4471-8b15-36b1126fdec1",
   "metadata": {},
   "outputs": [],
   "source": []
  },
  {
   "cell_type": "markdown",
   "id": "9d3ee986-cae2-4153-8fc2-733d6fb9bba9",
   "metadata": {},
   "source": [
    "#### 4. Categorical Variables"
   ]
  },
  {
   "cell_type": "code",
   "execution_count": 12,
   "id": "778bacda-247c-4abc-84be-7741ea96ab10",
   "metadata": {
    "tags": []
   },
   "outputs": [
    {
     "data": {
      "text/plain": [
       "['Submission Date',\n",
       " '16230052|EA number',\n",
       " '7420032|Community Name',\n",
       " '7430032|Water point Name',\n",
       " '5420051|Location',\n",
       " '--GEOELE--|Elevation',\n",
       " '--GEOCODE--|Geo Code',\n",
       " '4430050|Photo',\n",
       " '5450040|Type of water point',\n",
       " '4420041|Extraction system type',\n",
       " '440041|Pump type',\n",
       " '1410054|Number of taps at this point',\n",
       " '5440041|Are you able to measure the depth of well?',\n",
       " '9410050|Measure the depth of the well (in metres)',\n",
       " '7430035|Water point Functionality',\n",
       " '470044|When did the water point break down?',\n",
       " '4380053|Last time the water point broke down, how long did it take to repair?',\n",
       " '6430039|Is/was this point monthly or regularly chlorinated?',\n",
       " '5420052|Does this Water point have any damage?',\n",
       " '4390041|Is water available throughout the year?',\n",
       " '2480001|During the seasonal drought of the well, how long is it not available? (months)',\n",
       " '4390042|Is/was this point used for drinking water',\n",
       " '1450005|Why is this point not used for drinking water?',\n",
       " '7420038|Is the water paid for at this point?',\n",
       " '9410052|How reliable is the water point?',\n",
       " '3480045|Is the water clean or is there a quality problem?',\n",
       " '6400047|Installer / implementing agency',\n",
       " '6430041|Others Installer / implementing agency',\n",
       " '4390044|Who owns the water point?',\n",
       " '4380054|Who is maintaining the water point (routine repairs)?',\n",
       " '7380052|Is there a WASH management committee?',\n",
       " '510001|Is the WASH management committee functioning?',\n",
       " '7430040|Is there a trained mechanic available at this point?',\n",
       " '6430044|Were trained mechanics provided with toolkits?',\n",
       " '1500002|Has the community been declared ODF?',\n",
       " '2470038|Do you think the community is still ODF?',\n",
       " '6540001|Are there functioning latrines in this village?',\n",
       " '2540001|Do the latrines have handwashing facilities?',\n",
       " '8480002|Are there trained natural ODF leaders in this community?',\n",
       " '1530002|Are the trained natural ODF leaders performing their role effectively?',\n",
       " '4690001|Observations about toilet',\n",
       " '6740003|Observe presence of water at the specific place for hand washing',\n",
       " '3830002|Observe what device is present for hand washing',\n",
       " '3810002|Record if soap or detergent is present at the specific place for hand washing',\n",
       " 'Field49',\n",
       " 'chiefdom',\n",
       " 'District',\n",
       " 'Region']"
      ]
     },
     "execution_count": 12,
     "metadata": {},
     "output_type": "execute_result"
    }
   ],
   "source": [
    "## Exploring the categorical features\n",
    "categorical_features=[feature for feature in df.columns if df[feature].dtypes=='O']\n",
    "categorical_features"
   ]
  },
  {
   "cell_type": "code",
   "execution_count": 15,
   "id": "f0a52f04-e668-4ba2-a81e-f9256b0d42a1",
   "metadata": {},
   "outputs": [
    {
     "name": "stdout",
     "output_type": "stream",
     "text": [
      "Submission Date contains 25623 categories\n",
      "16230052|EA number contains 383 categories\n",
      "7420032|Community Name contains 10106 categories\n",
      "7430032|Water point Name contains 15499 categories\n",
      "5420051|Location contains 1503 categories\n",
      "--GEOELE--|Elevation contains 3669 categories\n",
      "--GEOCODE--|Geo Code contains 25759 categories\n",
      "4430050|Photo contains 26207 categories\n",
      "5450040|Type of water point contains 94 categories\n",
      "4420041|Extraction system type contains 177 categories\n",
      "440041|Pump type contains 12 categories\n",
      "1410054|Number of taps at this point contains 106 categories\n",
      "5440041|Are you able to measure the depth of well? contains 3 categories\n",
      "9410050|Measure the depth of the well (in metres) contains 87 categories\n",
      "7430035|Water point Functionality contains 6 categories\n",
      "470044|When did the water point break down? contains 6 categories\n",
      "4380053|Last time the water point broke down, how long did it take to repair? contains 7 categories\n",
      "6430039|Is/was this point monthly or regularly chlorinated? contains 4 categories\n",
      "5420052|Does this Water point have any damage? contains 1729 categories\n",
      "4390041|Is water available throughout the year? contains 3 categories\n",
      "2480001|During the seasonal drought of the well, how long is it not available? (months) contains 66 categories\n",
      "4390042|Is/was this point used for drinking water contains 3 categories\n",
      "1450005|Why is this point not used for drinking water? contains 1188 categories\n",
      "7420038|Is the water paid for at this point? contains 54 categories\n",
      "9410052|How reliable is the water point? contains 4 categories\n",
      "3480045|Is the water clean or is there a quality problem? contains 165 categories\n",
      "6400047|Installer / implementing agency contains 42 categories\n",
      "6430041|Others Installer / implementing agency contains 3234 categories\n",
      "4390044|Who owns the water point? contains 11 categories\n",
      "4380054|Who is maintaining the water point (routine repairs)? contains 269 categories\n",
      "7380052|Is there a WASH management committee? contains 3 categories\n",
      "510001|Is the WASH management committee functioning? contains 4 categories\n",
      "7430040|Is there a trained mechanic available at this point? contains 32 categories\n",
      "6430044|Were trained mechanics provided with toolkits? contains 4 categories\n",
      "1500002|Has the community been declared ODF? contains 4 categories\n",
      "2470038|Do you think the community is still ODF? contains 4 categories\n",
      "6540001|Are there functioning latrines in this village? contains 4 categories\n",
      "2540001|Do the latrines have handwashing facilities? contains 4 categories\n",
      "8480002|Are there trained natural ODF leaders in this community? contains 4 categories\n",
      "1530002|Are the trained natural ODF leaders performing their role effectively? contains 4 categories\n",
      "4690001|Observations about toilet contains 87 categories\n",
      "6740003|Observe presence of water at the specific place for hand washing contains 3 categories\n",
      "3830002|Observe what device is present for hand washing contains 6 categories\n",
      "3810002|Record if soap or detergent is present at the specific place for hand washing contains 6 categories\n",
      "Field49 contains 26207 categories\n",
      "chiefdom contains 152 categories\n",
      "District contains 15 categories\n",
      "Region contains 5 categories\n"
     ]
    }
   ],
   "source": [
    "## Exploring the number of unique variables in each categorical feature\n",
    "for feature in categorical_features:\n",
    "    print('{} contains {} categories'.format(feature,len(df[feature].unique())))"
   ]
  },
  {
   "cell_type": "code",
   "execution_count": null,
   "id": "e9ec9c5b-f19f-42e8-86fe-d8a38584c9d1",
   "metadata": {},
   "outputs": [],
   "source": []
  },
  {
   "cell_type": "markdown",
   "id": "74fd32fc-92b6-49e1-9b83-c9f1fdba78dd",
   "metadata": {},
   "source": [
    "#### Nesting the huge unique value count in the categorical features [pending task 3]\n",
    "The columns of interest contains a lot of unique value count. For example the `...Type of water point`feature has 94 unique values and it is highly unlikely that there are 94 different types of water points implemented in the country.\n",
    "______________"
   ]
  },
  {
   "cell_type": "code",
   "execution_count": null,
   "id": "9b0aa1af-d9f2-46e5-9443-06d56f7414be",
   "metadata": {},
   "outputs": [],
   "source": []
  },
  {
   "cell_type": "markdown",
   "id": "8181607e-a362-4198-8df8-9f9f3384d2a9",
   "metadata": {
    "tags": []
   },
   "source": [
    "### 5. Check irregular column data"
   ]
  },
  {
   "cell_type": "code",
   "execution_count": 16,
   "id": "a7aae774-a271-4e4a-b477-5344c230592d",
   "metadata": {},
   "outputs": [
    {
     "data": {
      "text/html": [
       "<div>\n",
       "<style scoped>\n",
       "    .dataframe tbody tr th:only-of-type {\n",
       "        vertical-align: middle;\n",
       "    }\n",
       "\n",
       "    .dataframe tbody tr th {\n",
       "        vertical-align: top;\n",
       "    }\n",
       "\n",
       "    .dataframe thead th {\n",
       "        text-align: right;\n",
       "    }\n",
       "</style>\n",
       "<table border=\"1\" class=\"dataframe\">\n",
       "  <thead>\n",
       "    <tr style=\"text-align: right;\">\n",
       "      <th></th>\n",
       "      <th>Submission Date</th>\n",
       "      <th>16230052|EA number</th>\n",
       "      <th>7420032|Community Name</th>\n",
       "      <th>7430032|Water point Name</th>\n",
       "      <th>5420051|Location</th>\n",
       "      <th>2420047|Latitude</th>\n",
       "      <th>--GEOLON--|Longitude</th>\n",
       "      <th>--GEOELE--|Elevation</th>\n",
       "      <th>--GEOCODE--|Geo Code</th>\n",
       "      <th>4430050|Photo</th>\n",
       "      <th>...</th>\n",
       "      <th>8480002|Are there trained natural ODF leaders in this community?</th>\n",
       "      <th>1530002|Are the trained natural ODF leaders performing their role effectively?</th>\n",
       "      <th>4690001|Observations about toilet</th>\n",
       "      <th>6740003|Observe presence of water at the specific place for hand washing</th>\n",
       "      <th>3830002|Observe what device is present for hand washing</th>\n",
       "      <th>3810002|Record if soap or detergent is present at the specific place for hand washing</th>\n",
       "      <th>Field49</th>\n",
       "      <th>chiefdom</th>\n",
       "      <th>District</th>\n",
       "      <th>Region</th>\n",
       "    </tr>\n",
       "  </thead>\n",
       "  <tbody>\n",
       "    <tr>\n",
       "      <th>0</th>\n",
       "      <td>30-07-2016 19:55:22 CEST</td>\n",
       "      <td>14</td>\n",
       "      <td>semabu</td>\n",
       "      <td>Community pump</td>\n",
       "      <td>South|Bonthe|Bonthe Urban|Bonthe Town</td>\n",
       "      <td>7.523658</td>\n",
       "      <td>-12.500999</td>\n",
       "      <td>50</td>\n",
       "      <td>9lmqrpu9</td>\n",
       "      <td>https://akvoflow-110.s3.amazonaws.com/images/d...</td>\n",
       "      <td>...</td>\n",
       "      <td>&lt;Null&gt;</td>\n",
       "      <td>&lt;Null&gt;</td>\n",
       "      <td>7:No toilet in household / not applicable</td>\n",
       "      <td>2:Water is not available</td>\n",
       "      <td>1:No device present</td>\n",
       "      <td>5:None</td>\n",
       "      <td>72849e96c5fe978793072373c77cae1</td>\n",
       "      <td>Dema</td>\n",
       "      <td>Bonthe</td>\n",
       "      <td>Southern</td>\n",
       "    </tr>\n",
       "    <tr>\n",
       "      <th>1</th>\n",
       "      <td>01-01-2016 21:16:53 CET</td>\n",
       "      <td>7</td>\n",
       "      <td>mabonto</td>\n",
       "      <td>magburaka road</td>\n",
       "      <td>Tonkolili|Kafe Simiria|Mabonto</td>\n",
       "      <td>8.860831</td>\n",
       "      <td>-11.812625</td>\n",
       "      <td>150.1</td>\n",
       "      <td>bb270dny</td>\n",
       "      <td>https://akvoflow-110.s3.amazonaws.com/images/e...</td>\n",
       "      <td>...</td>\n",
       "      <td>&lt;Null&gt;</td>\n",
       "      <td>&lt;Null&gt;</td>\n",
       "      <td>6:Toilet looks good</td>\n",
       "      <td>2:Water is not available</td>\n",
       "      <td>1:No device present</td>\n",
       "      <td>5:None</td>\n",
       "      <td>f0563f79f4dcc28f9d5877242bffc0f7</td>\n",
       "      <td>Kafe Simira</td>\n",
       "      <td>Tonkolili</td>\n",
       "      <td>Northern</td>\n",
       "    </tr>\n",
       "  </tbody>\n",
       "</table>\n",
       "<p>2 rows × 52 columns</p>\n",
       "</div>"
      ],
      "text/plain": [
       "            Submission Date 16230052|EA number 7420032|Community Name  \\\n",
       "0  30-07-2016 19:55:22 CEST                 14                 semabu   \n",
       "1   01-01-2016 21:16:53 CET                  7                mabonto   \n",
       "\n",
       "  7430032|Water point Name                       5420051|Location  \\\n",
       "0           Community pump  South|Bonthe|Bonthe Urban|Bonthe Town   \n",
       "1           magburaka road         Tonkolili|Kafe Simiria|Mabonto   \n",
       "\n",
       "   2420047|Latitude  --GEOLON--|Longitude --GEOELE--|Elevation  \\\n",
       "0          7.523658            -12.500999                   50   \n",
       "1          8.860831            -11.812625                150.1   \n",
       "\n",
       "  --GEOCODE--|Geo Code                                      4430050|Photo  \\\n",
       "0             9lmqrpu9  https://akvoflow-110.s3.amazonaws.com/images/d...   \n",
       "1             bb270dny  https://akvoflow-110.s3.amazonaws.com/images/e...   \n",
       "\n",
       "   ... 8480002|Are there trained natural ODF leaders in this community?  \\\n",
       "0  ...                                             <Null>                 \n",
       "1  ...                                             <Null>                 \n",
       "\n",
       "  1530002|Are the trained natural ODF leaders performing their role effectively?  \\\n",
       "0                                             <Null>                               \n",
       "1                                             <Null>                               \n",
       "\n",
       "           4690001|Observations about toilet  \\\n",
       "0  7:No toilet in household / not applicable   \n",
       "1                        6:Toilet looks good   \n",
       "\n",
       "  6740003|Observe presence of water at the specific place for hand washing  \\\n",
       "0                           2:Water is not available                         \n",
       "1                           2:Water is not available                         \n",
       "\n",
       "  3830002|Observe what device is present for hand washing  \\\n",
       "0                                1:No device present        \n",
       "1                                1:No device present        \n",
       "\n",
       "  3810002|Record if soap or detergent is present at the specific place for hand washing  \\\n",
       "0                                             5:None                                      \n",
       "1                                             5:None                                      \n",
       "\n",
       "                            Field49     chiefdom   District    Region  \n",
       "0   72849e96c5fe978793072373c77cae1         Dema     Bonthe  Southern  \n",
       "1  f0563f79f4dcc28f9d5877242bffc0f7  Kafe Simira  Tonkolili  Northern  \n",
       "\n",
       "[2 rows x 52 columns]"
      ]
     },
     "execution_count": 16,
     "metadata": {},
     "output_type": "execute_result"
    }
   ],
   "source": [
    "df.head(2)"
   ]
  },
  {
   "cell_type": "code",
   "execution_count": null,
   "id": "eec574e1-368b-4cb9-b8e6-d9e78dcfbe34",
   "metadata": {},
   "outputs": [],
   "source": []
  },
  {
   "cell_type": "markdown",
   "id": "99351fba-c97d-4293-b9f5-0b0d47c48755",
   "metadata": {
    "tags": []
   },
   "source": [
    "#### Splitting columns with categorical code and answers [pending task 4]\n",
    "Since many of the categorical data are in the form of survey format, we need to seperate the code from the answers. For example in the column `3830002|Observe what device is present for hand washing` the data is in the form of `1:No device present` \n",
    "________\n",
    "\n",
    "#### Extracting Location data [pending task 5]\n",
    "Location data is important to the analysis to classify results by district and regions. We identify the `5420051|Location` column to extract the REGION, DISTRICT and CHIEFDOM data from `South|Bonthe|Bonthe Urban|Bonthe Town` This column is very inconsistent in order and formatting\n",
    "___\n",
    "\n",
    "#### Converting dataset from a pandas to a geodataframe [pending task 6]\n",
    "The dataset contains location data and analysis will be done spoatially. Therefore, it is necessary to use the `5420051|Location , 2420047|Latitude` information to create a geometry for geodataframe\n"
   ]
  },
  {
   "cell_type": "code",
   "execution_count": null,
   "id": "98871f1c-bb0f-4420-b0b4-6a11cc42a1ea",
   "metadata": {},
   "outputs": [],
   "source": []
  },
  {
   "cell_type": "markdown",
   "id": "02ae0b9a-34e4-486e-83fb-c6f1855a647c",
   "metadata": {},
   "source": [
    "### 6. Listing all tasks\n",
    "* Selecting informative columns [pending task 1]\n",
    "* Cleaning Column Names [pending task 2]\n",
    "* Nesting the huge unique value count in the categorical features [pending task 3]\n",
    "* Splitting columns with categorical code and answers [pending task 4]\n",
    "* Extracting Location data [pending task 5]\n",
    "* Converting dataset from a pandas to a geodataframe [pending task 6]"
   ]
  },
  {
   "cell_type": "code",
   "execution_count": null,
   "id": "f75dfc2a-fdb1-4240-a950-d15138ae9b61",
   "metadata": {},
   "outputs": [],
   "source": []
  },
  {
   "cell_type": "markdown",
   "id": "e957e353-ba07-4e6a-aa61-14bf6ac0ce8e",
   "metadata": {},
   "source": [
    "## Closing remarks\n",
    "\n",
    "The pending tasks listed above will be adressed in the `02-Data_Cleaning.ipynb` notebook.\n",
    "\n",
    "<hr />\n",
    "<img src=\"my_logo.png\" style=\"float:center\" width=\"80px\" />\n",
    "<p><center>© 2022 <a href=\"http://www.Envirodatrics.com/\">Envirodatrics</a> — <a href=\"https://creativecommons.org/licenses/by/4.0/\">CC-BY</a></center></p>"
   ]
  },
  {
   "cell_type": "code",
   "execution_count": null,
   "id": "63ca7da3-2d2d-4d3b-a6d7-be0669215d6f",
   "metadata": {},
   "outputs": [],
   "source": []
  },
  {
   "cell_type": "markdown",
   "id": "6cdd8051-6987-4da0-922a-88311419fb95",
   "metadata": {},
   "source": [
    "**---> 02-Data_Cleaning**"
   ]
  },
  {
   "cell_type": "code",
   "execution_count": null,
   "id": "4ef0a65c-cbb1-4218-ae14-7a7e3b52080b",
   "metadata": {},
   "outputs": [],
   "source": []
  }
 ],
 "metadata": {
  "kernelspec": {
   "display_name": "Python 3 (ipykernel)",
   "language": "python",
   "name": "python3"
  },
  "language_info": {
   "codemirror_mode": {
    "name": "ipython",
    "version": 3
   },
   "file_extension": ".py",
   "mimetype": "text/x-python",
   "name": "python",
   "nbconvert_exporter": "python",
   "pygments_lexer": "ipython3",
   "version": "3.9.7"
  }
 },
 "nbformat": 4,
 "nbformat_minor": 5
}
